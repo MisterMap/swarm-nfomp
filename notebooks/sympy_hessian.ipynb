{
 "cells": [
  {
   "cell_type": "code",
   "execution_count": 9,
   "metadata": {
    "collapsed": true
   },
   "outputs": [
    {
     "name": "stdout",
     "output_type": "stream",
     "text": [
      "x0**2 - 4*x0*x1 + 2*x0*x2 + 5*x1**2 - 8*x1*x2 + 2*x1*x3 + 6*x2**2 - 8*x2*x3 + 2*x2*x4 + 6*x3**2 - 8*x3*x4 + 2*x3*x5 + 6*x4**2 - 8*x4*x5 + 2*x4*x6 + 6*x5**2 - 8*x5*x6 + 2*x5*x7 + 6*x6**2 - 8*x6*x7 + 2*x6*x8 + 6*x7**2 - 8*x7*x8 + 2*x7*x9 + 5*x8**2 - 4*x8*x9 + x9**2\n"
     ]
    },
    {
     "data": {
      "text/plain": "Matrix([\n[ 2, -4,  2,  0,  0,  0,  0,  0,  0,  0],\n[-4, 10, -8,  2,  0,  0,  0,  0,  0,  0],\n[ 2, -8, 12, -8,  2,  0,  0,  0,  0,  0],\n[ 0,  2, -8, 12, -8,  2,  0,  0,  0,  0],\n[ 0,  0,  2, -8, 12, -8,  2,  0,  0,  0],\n[ 0,  0,  0,  2, -8, 12, -8,  2,  0,  0],\n[ 0,  0,  0,  0,  2, -8, 12, -8,  2,  0],\n[ 0,  0,  0,  0,  0,  2, -8, 12, -8,  2],\n[ 0,  0,  0,  0,  0,  0,  2, -8, 10, -4],\n[ 0,  0,  0,  0,  0,  0,  0,  2, -4,  2]])",
      "text/latex": "$\\displaystyle \\left[\\begin{matrix}2 & -4 & 2 & 0 & 0 & 0 & 0 & 0 & 0 & 0\\\\-4 & 10 & -8 & 2 & 0 & 0 & 0 & 0 & 0 & 0\\\\2 & -8 & 12 & -8 & 2 & 0 & 0 & 0 & 0 & 0\\\\0 & 2 & -8 & 12 & -8 & 2 & 0 & 0 & 0 & 0\\\\0 & 0 & 2 & -8 & 12 & -8 & 2 & 0 & 0 & 0\\\\0 & 0 & 0 & 2 & -8 & 12 & -8 & 2 & 0 & 0\\\\0 & 0 & 0 & 0 & 2 & -8 & 12 & -8 & 2 & 0\\\\0 & 0 & 0 & 0 & 0 & 2 & -8 & 12 & -8 & 2\\\\0 & 0 & 0 & 0 & 0 & 0 & 2 & -8 & 10 & -4\\\\0 & 0 & 0 & 0 & 0 & 0 & 0 & 2 & -4 & 2\\end{matrix}\\right]$"
     },
     "execution_count": 9,
     "metadata": {},
     "output_type": "execute_result"
    }
   ],
   "source": [
    "import sympy as sp\n",
    "\n",
    "def hessian_matrix(n):\n",
    "    x = sp.symbols(f'x0:{n}')\n",
    "    f = sum((x[i+1] - 2*x[i] + x[i-1])**2 for i in range(1, n-1))\n",
    "\n",
    "    print(sp.expand(f))\n",
    "    H = sp.Matrix(n, n, lambda i, j: f.diff(x[i], x[j]))\n",
    "    return H\n",
    "\n",
    "n = 10  # Change this value to the length of the vector x\n",
    "H = hessian_matrix(n)\n",
    "H"
   ]
  },
  {
   "cell_type": "code",
   "execution_count": 12,
   "outputs": [
    {
     "data": {
      "text/plain": "Matrix([\n[ 2, -2,  0,  0,  0,  0,  0,  0,  0,  0],\n[-2,  4, -2,  0,  0,  0,  0,  0,  0,  0],\n[ 0, -2,  4, -2,  0,  0,  0,  0,  0,  0],\n[ 0,  0, -2,  4, -2,  0,  0,  0,  0,  0],\n[ 0,  0,  0, -2,  4, -2,  0,  0,  0,  0],\n[ 0,  0,  0,  0, -2,  4, -2,  0,  0,  0],\n[ 0,  0,  0,  0,  0, -2,  4, -2,  0,  0],\n[ 0,  0,  0,  0,  0,  0, -2,  4, -2,  0],\n[ 0,  0,  0,  0,  0,  0,  0, -2,  4, -2],\n[ 0,  0,  0,  0,  0,  0,  0,  0, -2,  2]])",
      "text/latex": "$\\displaystyle \\left[\\begin{matrix}2 & -2 & 0 & 0 & 0 & 0 & 0 & 0 & 0 & 0\\\\-2 & 4 & -2 & 0 & 0 & 0 & 0 & 0 & 0 & 0\\\\0 & -2 & 4 & -2 & 0 & 0 & 0 & 0 & 0 & 0\\\\0 & 0 & -2 & 4 & -2 & 0 & 0 & 0 & 0 & 0\\\\0 & 0 & 0 & -2 & 4 & -2 & 0 & 0 & 0 & 0\\\\0 & 0 & 0 & 0 & -2 & 4 & -2 & 0 & 0 & 0\\\\0 & 0 & 0 & 0 & 0 & -2 & 4 & -2 & 0 & 0\\\\0 & 0 & 0 & 0 & 0 & 0 & -2 & 4 & -2 & 0\\\\0 & 0 & 0 & 0 & 0 & 0 & 0 & -2 & 4 & -2\\\\0 & 0 & 0 & 0 & 0 & 0 & 0 & 0 & -2 & 2\\end{matrix}\\right]$"
     },
     "execution_count": 12,
     "metadata": {},
     "output_type": "execute_result"
    }
   ],
   "source": [
    "\n",
    "n = 10\n",
    "x = sp.symbols(f'x0:{n}')\n",
    "f = sum((x[i+1] - x[i])**2 for i in range(0, n - 1))\n",
    "\n",
    "H = sp.Matrix(n, n, lambda i, j: f.diff(x[i], x[j]))\n",
    "H"
   ],
   "metadata": {
    "collapsed": false
   }
  },
  {
   "cell_type": "code",
   "execution_count": null,
   "outputs": [],
   "source": [],
   "metadata": {
    "collapsed": false
   }
  }
 ],
 "metadata": {
  "kernelspec": {
   "display_name": "Python 3",
   "language": "python",
   "name": "python3"
  },
  "language_info": {
   "codemirror_mode": {
    "name": "ipython",
    "version": 2
   },
   "file_extension": ".py",
   "mimetype": "text/x-python",
   "name": "python",
   "nbconvert_exporter": "python",
   "pygments_lexer": "ipython2",
   "version": "2.7.6"
  }
 },
 "nbformat": 4,
 "nbformat_minor": 0
}
