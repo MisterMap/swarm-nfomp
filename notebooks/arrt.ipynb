{
 "cells": [
  {
   "cell_type": "code",
   "execution_count": 1,
   "metadata": {
    "collapsed": true
   },
   "outputs": [],
   "source": [
    "%load_ext autoreload\n",
    "%autoreload 2"
   ]
  },
  {
   "cell_type": "code",
   "execution_count": 2,
   "outputs": [],
   "source": [
    "from swarm_nfomp.collision_detector.collision_detector import MultiRobotCollisionDetectorFactory"
   ],
   "metadata": {
    "collapsed": false
   }
  },
  {
   "cell_type": "code",
   "execution_count": 5,
   "outputs": [],
   "source": [
    "collision_detector_parameters = {\n",
    "    \"outside_polygon\": [\n",
    "        [-5, -5], [-5, 5], [5, 5], [5, -5]\n",
    "    ],\n",
    "    \"inside_polygon\": [\n",
    "        [[-5, -5], [-5, -2], [-2, -2], [-2, -5]],\n",
    "        [[2, -5], [2, -2], [5, -2], [5, -5]],\n",
    "        [[-5, 2], [-5, 5], [-2, 5], [-2, 2]],\n",
    "        [[2, 2], [2, 5], [5, 5], [5, 2]],\n",
    "    ],\n",
    "    \"robot_shapes\": [\n",
    "        [[-1, -0.5], [-1, 0.5], [1, 0.5], [1, -0.5]],\n",
    "        [[-1, -0.5], [-1, 0.5], [1, 0.5], [1, -0.5]],\n",
    "    ]\n",
    "}\n",
    "collision_detector = MultiRobotCollisionDetectorFactory.make(collision_detector_parameters)"
   ],
   "metadata": {
    "collapsed": false
   }
  },
  {
   "cell_type": "code",
   "execution_count": null,
   "outputs": [],
   "source": [],
   "metadata": {
    "collapsed": false
   }
  }
 ],
 "metadata": {
  "kernelspec": {
   "display_name": "Python 3",
   "language": "python",
   "name": "python3"
  },
  "language_info": {
   "codemirror_mode": {
    "name": "ipython",
    "version": 2
   },
   "file_extension": ".py",
   "mimetype": "text/x-python",
   "name": "python",
   "nbconvert_exporter": "python",
   "pygments_lexer": "ipython2",
   "version": "2.7.6"
  }
 },
 "nbformat": 4,
 "nbformat_minor": 0
}
